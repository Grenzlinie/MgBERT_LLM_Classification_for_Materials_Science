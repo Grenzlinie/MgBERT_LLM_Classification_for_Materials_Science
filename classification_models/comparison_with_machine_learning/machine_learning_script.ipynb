{
 "cells": [
  {
   "cell_type": "code",
   "execution_count": null,
   "metadata": {},
   "outputs": [],
   "source": [
    "from sklearn.svm import SVC\n",
    "from sklearn.ensemble import GradientBoostingClassifier\n",
    "from sklearn.linear_model import LogisticRegression\n",
    "import pandas as pd\n",
    "model_svc = SVC(random_state=42)\n",
    "model_gbdt = GradientBoostingClassifier(random_state=42)\n",
    "model_logistic = LogisticRegression(random_state=42)\n",
    "data = pd.read_csv('train_dataset_featured.csv')\n",
    "X_train = data.drop(columns=['glass_forming_category', 'composition', 'Composition_converted'])\n",
    "y_train = data['glass_forming_category']\n",
    "model_svc.fit(X_train, y_train)\n",
    "model_gbdt.fit(X_train, y_train)\n",
    "model_logistic.fit(X_train, y_train)"
   ]
  },
  {
   "cell_type": "code",
   "execution_count": null,
   "metadata": {},
   "outputs": [],
   "source": [
    "test_data = pd.read_csv('test_dataset_featured.csv')\n",
    "train_data = pd.read_csv('train_dataset_featured.csv')\n",
    "X_test = test_data.drop(columns=['glass_forming_category','composition', 'Composition_converted'])\n",
    "y_test = test_data['glass_forming_category']\n",
    "y_pred = model_gbdt.predict(X_test)\n",
    "X_train = train_data.drop(columns=['glass_forming_category','composition', 'Composition_converted'])\n",
    "y_train = train_data['glass_forming_category']\n",
    "y_pred_train = model_gbdt.predict(X_train)"
   ]
  },
  {
   "cell_type": "code",
   "execution_count": null,
   "metadata": {},
   "outputs": [],
   "source": [
    "count_BMG = sum(1 for label in y_test if label == 'BMG')\n",
    "print('BMG in test dataset: ', count_BMG)"
   ]
  },
  {
   "cell_type": "code",
   "execution_count": null,
   "metadata": {},
   "outputs": [],
   "source": [
    "count_ribbon = sum(1 for label in y_test if label == 'Ribbon')\n",
    "print('Ribbon in test dataset: ', count_ribbon)"
   ]
  },
  {
   "cell_type": "code",
   "execution_count": null,
   "metadata": {},
   "outputs": [],
   "source": [
    "count_BMG = sum(1 for label in y_train if label == 'BMG')\n",
    "print('BMG in train dataset: ', count_BMG)"
   ]
  },
  {
   "cell_type": "code",
   "execution_count": null,
   "metadata": {},
   "outputs": [],
   "source": [
    "count_ribbon = sum(1 for label in y_train if label == 'Ribbon')\n",
    "print('Ribbon in train dataset: ', count_ribbon)"
   ]
  },
  {
   "cell_type": "code",
   "execution_count": null,
   "metadata": {},
   "outputs": [],
   "source": [
    "cnt = 0\n",
    "for i in range(len(y_pred)):\n",
    "    if y_pred[i] == y_test[i] == 'BMG':\n",
    "        cnt+=1\n",
    "print(len(y_pred))\n",
    "print(cnt)"
   ]
  },
  {
   "cell_type": "code",
   "execution_count": null,
   "metadata": {},
   "outputs": [],
   "source": [
    "cnt3 = 0\n",
    "for i in range(len(y_pred)):\n",
    "    if y_pred[i] == y_test[i] == 'Ribbon':\n",
    "        cnt3+=1\n",
    "print(len(y_pred))\n",
    "print(cnt3)"
   ]
  },
  {
   "cell_type": "code",
   "execution_count": null,
   "metadata": {},
   "outputs": [],
   "source": [
    "cnt2 = 0\n",
    "for i in range(len(y_pred_train)):\n",
    "    if y_pred_train[i] == y_train[i] == 'BMG':\n",
    "        cnt2+=1\n",
    "print(len(y_pred_train))\n",
    "print(cnt2)"
   ]
  },
  {
   "cell_type": "code",
   "execution_count": null,
   "metadata": {},
   "outputs": [],
   "source": [
    "cnt4 = 0\n",
    "for i in range(len(y_pred_train)):\n",
    "    if y_pred_train[i] == y_train[i] == 'Ribbon':\n",
    "        cnt4+=1\n",
    "print(len(y_pred_train))\n",
    "print(cnt4)"
   ]
  },
  {
   "cell_type": "code",
   "execution_count": null,
   "metadata": {},
   "outputs": [],
   "source": [
    "cnt5 = 0\n",
    "for i in range(len(y_pred)):\n",
    "    if y_pred[i] == y_test[i]:\n",
    "        cnt5+=1\n",
    "print(len(y_pred))\n",
    "print(cnt5)"
   ]
  },
  {
   "cell_type": "code",
   "execution_count": null,
   "metadata": {},
   "outputs": [],
   "source": [
    "cnt6 = 0\n",
    "for i in range(len(y_pred_train)):\n",
    "    if y_pred_train[i] == y_train[i]:\n",
    "        cnt6+=1\n",
    "print(len(y_pred_train))\n",
    "print(cnt6)"
   ]
  },
  {
   "cell_type": "code",
   "execution_count": null,
   "metadata": {},
   "outputs": [],
   "source": [
    "import matplotlib.pyplot as plt\n",
    "import numpy as np\n",
    "\n",
    "labels = ['baseline', 'SVM', 'GBDT', 'our workflow']\n",
    "testset_accuracy = [66.9, 77.7, 82.5, 88.5]\n",
    "wholeset_accuracy = [66.0, 77.1, 83.7, 97.7]\n",
    "\n",
    "fig, ax = plt.subplots()\n",
    "fig.set_size_inches(10, 7)\n",
    "bar_width = 0.4\n",
    "index = np.arange(len(labels))\n",
    "fontsize = 18\n",
    "rects1 = ax.bar(index, testset_accuracy, bar_width, label='testset_accuracy', color='#c2e9fb', edgecolor='black', linewidth=2.5)  \n",
    "rects2 = ax.bar(index + bar_width, wholeset_accuracy, bar_width, label='wholeset_accuracy', color='#a1c4fd', edgecolor='black', linewidth=2.5) \n",
    "\n",
    "for i, rect in enumerate(rects1):\n",
    "    height = rect.get_height()\n",
    "    ax.text(rect.get_x() + rect.get_width() / 2, height, testset_accuracy[i],\n",
    "            ha='center', va='bottom', fontsize=fontsize)\n",
    "\n",
    "for i, rect in enumerate(rects2):\n",
    "    height = rect.get_height()\n",
    "    ax.text(rect.get_x() + rect.get_width() / 2, height, wholeset_accuracy[i],\n",
    "            ha='center', va='bottom', fontsize=fontsize)\n",
    "\n",
    "ax.set_xlabel('Models', fontsize=fontsize)\n",
    "ax.set_ylabel('Accuracy (%)', fontsize=fontsize)\n",
    "ax.set_title('Wholeset and Testset Accuracy for Different Models', fontsize=fontsize)\n",
    "ax.set_xticks(index + bar_width / 2)\n",
    "ax.set_xticklabels(labels)\n",
    "ax.legend(fontsize=fontsize)\n",
    "\n",
    "plt.xticks(fontsize=fontsize)\n",
    "plt.xticks(fontsize=fontsize)\n",
    "plt.yticks(fontsize=fontsize)\n",
    "# 调整x轴和y轴的刻度线粗细\n",
    "plt.tick_params(axis='x', width=2)\n",
    "plt.tick_params(axis='y', width=2)\n",
    "# 调整整个折线图画框的粗细\n",
    "plt.gca().spines['top'].set_linewidth(2.5)       # 上边框\n",
    "plt.gca().spines['bottom'].set_linewidth(2.5)    # 下边框\n",
    "plt.gca().spines['left'].set_linewidth(2.5)      # 左边框\n",
    "plt.gca().spines['right'].set_linewidth(2.5)     # 右边框\n",
    "\n",
    "\n",
    "fig.tight_layout()\n",
    "plt.savefig('comparison.svg', dpi=600)\n",
    "plt.show()"
   ]
  },
  {
   "cell_type": "code",
   "execution_count": null,
   "metadata": {},
   "outputs": [],
   "source": [
    "import matplotlib.pyplot as plt\n",
    "import numpy as np\n",
    "\n",
    "labels = ['baseline', 'SVM', 'GBDT', 'our workflow']\n",
    "testset_accuracy = [23.4, 64.5, 78.2, 95.2]\n",
    "wholeset_accuracy = [17.6, 55.7, 75.9, 99.0]\n",
    "\n",
    "fig, ax = plt.subplots()\n",
    "fig.set_size_inches(10, 7)\n",
    "bar_width = 0.4\n",
    "index = np.arange(len(labels))\n",
    "fontsize = 18\n",
    "rects1 = ax.bar(index, testset_accuracy, bar_width, label='testset_accuracy', color='#fccb90', edgecolor='black', linewidth=2.5)  \n",
    "rects2 = ax.bar(index + bar_width, wholeset_accuracy, bar_width, label='wholeset_accuracy', color='#fda085', edgecolor='black', linewidth=2.5) \n",
    "\n",
    "for i, rect in enumerate(rects1):\n",
    "    height = rect.get_height()\n",
    "    ax.text(rect.get_x() + rect.get_width() / 2, height, testset_accuracy[i],\n",
    "            ha='center', va='bottom', fontsize=fontsize)\n",
    "\n",
    "for i, rect in enumerate(rects2):\n",
    "    height = rect.get_height()\n",
    "    ax.text(rect.get_x() + rect.get_width() / 2, height, wholeset_accuracy[i],\n",
    "            ha='center', va='bottom', fontsize=fontsize)\n",
    "\n",
    "ax.set_xlabel('Models', fontsize=fontsize)\n",
    "ax.set_ylabel('Accuracy (%)', fontsize=fontsize)\n",
    "ax.set_title('Wholeset and Testset Accuracy (BMG Type) for Different Models', fontsize=fontsize)\n",
    "ax.set_xticks(index + bar_width / 2)\n",
    "ax.set_xticklabels(labels)\n",
    "ax.legend(fontsize=fontsize)\n",
    "\n",
    "plt.xticks(fontsize=fontsize)\n",
    "plt.xticks(fontsize=fontsize)\n",
    "plt.yticks(fontsize=fontsize)\n",
    "# 调整x轴和y轴的刻度线粗细\n",
    "plt.tick_params(axis='x', width=2)\n",
    "plt.tick_params(axis='y', width=2)\n",
    "# 调整整个折线图画框的粗细\n",
    "plt.gca().spines['top'].set_linewidth(2.5)       # 上边框\n",
    "plt.gca().spines['bottom'].set_linewidth(2.5)    # 下边框\n",
    "plt.gca().spines['left'].set_linewidth(2.5)      # 左边框\n",
    "plt.gca().spines['right'].set_linewidth(2.5)     # 右边框\n",
    "\n",
    "\n",
    "fig.tight_layout()\n",
    "plt.savefig('comparison_bmg.svg', dpi=600)\n",
    "plt.show()"
   ]
  },
  {
   "cell_type": "code",
   "execution_count": null,
   "metadata": {},
   "outputs": [],
   "source": [
    "import matplotlib.pyplot as plt\n",
    "import numpy as np\n",
    "\n",
    "labels = ['Logistic Regression', 'SVM', 'GBDT', 'Prompt baseline model']\n",
    "testset_accuracy = [66.9, 77.7, 82.5, 85.0]\n",
    "wholeset_accuracy = [66.0, 77.1, 83.7, 93.0]\n",
    "\n",
    "fig, ax = plt.subplots()\n",
    "fig.set_size_inches(10, 7)\n",
    "bar_width = 0.35\n",
    "index = np.arange(len(labels))\n",
    "fontsize = 16\n",
    "rects1 = ax.bar(index, testset_accuracy, bar_width, label='testset_accuracy', color='#c2e9fb', edgecolor='black', linewidth=2)  \n",
    "rects2 = ax.bar(index + bar_width, wholeset_accuracy, bar_width, label='wholeset_accuracy', color='#a1c4fd', edgecolor='black', linewidth=2) \n",
    "\n",
    "for i, rect in enumerate(rects1):\n",
    "    height = rect.get_height()\n",
    "    ax.text(rect.get_x() + rect.get_width() / 2, height, testset_accuracy[i],\n",
    "            ha='center', va='bottom', fontsize=16)\n",
    "\n",
    "for i, rect in enumerate(rects2):\n",
    "    height = rect.get_height()\n",
    "    ax.text(rect.get_x() + rect.get_width() / 2, height, wholeset_accuracy[i],\n",
    "            ha='center', va='bottom', fontsize=16)\n",
    "\n",
    "ax.set_xlabel('Models', fontsize=fontsize)\n",
    "ax.set_ylabel('Accuracy (%)', fontsize=fontsize)\n",
    "ax.set_title('Wholeset and Testset Accuracy for Different Models', fontsize=fontsize)\n",
    "ax.set_xticks(index + bar_width / 2)\n",
    "ax.set_xticklabels(labels)\n",
    "ax.legend(fontsize=fontsize)\n",
    "\n",
    "plt.xticks(fontsize=16)\n",
    "plt.xticks(fontsize=16)\n",
    "plt.yticks(fontsize=16)\n",
    "# 调整x轴和y轴的刻度线粗细\n",
    "plt.tick_params(axis='x', width=2)\n",
    "plt.tick_params(axis='y', width=2)\n",
    "# 调整整个折线图画框的粗细\n",
    "plt.gca().spines['top'].set_linewidth(2)       # 上边框\n",
    "plt.gca().spines['bottom'].set_linewidth(2)    # 下边框\n",
    "plt.gca().spines['left'].set_linewidth(2)      # 左边框\n",
    "plt.gca().spines['right'].set_linewidth(2)     # 右边框\n",
    "\n",
    "\n",
    "fig.tight_layout()\n",
    "plt.savefig('comparison_prompt.png', dpi=600)\n",
    "plt.show()"
   ]
  }
 ],
 "metadata": {
  "kernelspec": {
   "display_name": "llm",
   "language": "python",
   "name": "python3"
  },
  "language_info": {
   "codemirror_mode": {
    "name": "ipython",
    "version": 3
   },
   "file_extension": ".py",
   "mimetype": "text/x-python",
   "name": "python",
   "nbconvert_exporter": "python",
   "pygments_lexer": "ipython3",
   "version": "3.10.0"
  }
 },
 "nbformat": 4,
 "nbformat_minor": 2
}
