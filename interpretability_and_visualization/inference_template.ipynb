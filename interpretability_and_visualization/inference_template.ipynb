{
 "cells": [
  {
   "cell_type": "code",
   "execution_count": null,
   "metadata": {},
   "outputs": [],
   "source": [
    "import torch\n",
    "from torch import nn\n",
    "import random\n",
    "import os\n",
    "import numpy as np\n",
    "import pandas as pd\n",
    "from torch.utils.data import DataLoader, Subset\n",
    "from MatSciBERT.normalize_text import normalize\n",
    "from transformers import AutoModel, AutoTokenizer, AutoConfig\n",
    "\n",
    "\n",
    "def setup_seed(seed):\n",
    "     torch.manual_seed(seed)\n",
    "     torch.cuda.manual_seed_all(seed)\n",
    "     np.random.seed(seed)\n",
    "     random.seed(seed)\n",
    "## 设置随机数种子\n",
    "setup_seed(42)\n",
    "\n",
    "config = AutoConfig.from_pretrained('./MatSciBERT')\n",
    "config.max_position_embeddings = 900\n",
    "bert_model = AutoModel.from_pretrained('./MatSciBERT', config=config, ignore_mismatched_sizes=True)\n",
    "\n",
    "\n",
    "class BertClassifier(nn.Module):\n",
    "    def __init__(self, dropout=0.5):\n",
    "        super(BertClassifier, self).__init__()\n",
    "        self.bert = bert_model\n",
    "        self.dropout = nn.Dropout(dropout)\n",
    "        self.linear = nn.Linear(768, 3)\n",
    "        self.relu = nn.ReLU()\n",
    "\n",
    "    def forward(self, input_id, mask):\n",
    "        outputs = self.bert(input_ids=input_id, attention_mask=mask,return_dict=True, output_attentions=True)\n",
    "        pooled_output = outputs.pooler_output\n",
    "        attentions = outputs.attentions\n",
    "        dropout_output = self.dropout(pooled_output)\n",
    "        linear_output = self.linear(dropout_output)\n",
    "        final_layer = self.relu(linear_output)\n",
    "        return final_layer, attentions\n",
    "\n",
    "\n",
    "## 数据获取\n",
    "tokenizer = AutoTokenizer.from_pretrained('./MatSciBERT')\n",
    "def find_text(composition):\n",
    "    file_path = os.path.join('../description/', composition + '.txt')\n",
    "    with open(file_path, 'r') as file:\n",
    "        text = file.read()\n",
    "    return text\n",
    "\n",
    "\n",
    "\n",
    "use_cuda = torch.cuda.is_available()\n",
    "device = torch.device(\"cuda\" if use_cuda else \"cpu\")\n",
    "\n",
    "## 模型读取\n",
    "from torch.serialization import load\n",
    "model_path = 'MgBERT.pth'\n",
    "model_data = torch.load(model_path, map_location=device)\n",
    "model = BertClassifier()\n",
    "model.to(device)\n",
    "model.load_state_dict(model_data)\n",
    "model.eval()"
   ]
  },
  {
   "cell_type": "code",
   "execution_count": null,
   "metadata": {},
   "outputs": [],
   "source": [
    "def inference(comp):\n",
    "    input_text = find_text(comp)\n",
    "    inputs = tokenizer(normalize(input_text),\n",
    "                                padding='max_length', \n",
    "                                max_length = 900, \n",
    "                                truncation=True,\n",
    "                                return_tensors=\"pt\").to(device)\n",
    "    output, attention = model(inputs['input_ids'], inputs['attention_mask'])\n",
    "    return output.argmax(dim=1)"
   ]
  },
  {
   "cell_type": "code",
   "execution_count": null,
   "metadata": {},
   "outputs": [],
   "source": [
    "#加载Composition数据\n",
    "import pandas as pd\n",
    "df = pd.read_csv('../unique_compositions.csv')\n",
    "composition_list = df['composition'].to_list()\n",
    "labels = {'BMG': 0,\n",
    "          'Ribbon': 1,\n",
    "          'NR': 2\n",
    "          }\n",
    "label_list = [labels[label] for label in df['glass_forming_category']]\n",
    "length = len(composition_list)"
   ]
  },
  {
   "cell_type": "code",
   "execution_count": null,
   "metadata": {},
   "outputs": [],
   "source": [
    "import numpy as np\n",
    "zero_matrix = np.zeros((3, 3))"
   ]
  },
  {
   "cell_type": "code",
   "execution_count": null,
   "metadata": {},
   "outputs": [],
   "source": [
    "for i in range(length):\n",
    "    pred = inference(composition_list[i])\n",
    "    if pred == label_list[i]:\n",
    "        zero_matrix[pred][pred] += 1\n",
    "    elif pred != label_list[i]:\n",
    "        zero_matrix[label_list[i]][pred] += 1\n",
    "print(zero_matrix)\n",
    "df_zero_matrix = pd.DataFrame(zero_matrix, columns=['r_BMG', 'r_Ribbon', 'r_NR'], index=['p_BMG', 'p_Ribbon', 'p_NR'])\n",
    "df_zero_matrix.to_excel('zero_matrix.xlsx')\n"
   ]
  },
  {
   "cell_type": "markdown",
   "metadata": {},
   "source": [
    "# other task"
   ]
  },
  {
   "cell_type": "code",
   "execution_count": null,
   "metadata": {},
   "outputs": [],
   "source": [
    "def inference(comp):\n",
    "    input_text = find_text(comp)\n",
    "    inputs = tokenizer(normalize(input_text),\n",
    "                                padding='max_length', \n",
    "                                max_length = 900, \n",
    "                                truncation=True,\n",
    "                                return_tensors=\"pt\").to(device)\n",
    "    output, attention = model(inputs['input_ids'], inputs['attention_mask'])\n",
    "    return output.argmax(dim=1)"
   ]
  },
  {
   "cell_type": "code",
   "execution_count": null,
   "metadata": {},
   "outputs": [],
   "source": [
    "#加载Composition数据\n",
    "import pandas as pd\n",
    "df = pd.read_csv('train_dataset.csv')\n",
    "composition_list = df['composition'].to_list()\n",
    "labels = {'BMG': 0,\n",
    "          'Ribbon': 1,\n",
    "          'NR': 2\n",
    "          }\n",
    "label_list = [labels[label] for label in df['glass_forming_category']]\n",
    "length = len(composition_list)"
   ]
  },
  {
   "cell_type": "code",
   "execution_count": null,
   "metadata": {},
   "outputs": [],
   "source": [
    "count_BMG = sum(1 for label in label_list if label == 0)\n",
    "print('BMG in test dataset: ', count_BMG)"
   ]
  },
  {
   "cell_type": "code",
   "execution_count": null,
   "metadata": {},
   "outputs": [],
   "source": [
    "count_Ribbon = sum(1 for label in label_list if label == 1)\n",
    "print('Ribbon in test dataset: ', count_Ribbon)"
   ]
  },
  {
   "cell_type": "code",
   "execution_count": null,
   "metadata": {},
   "outputs": [],
   "source": [
    "print(length)"
   ]
  },
  {
   "cell_type": "code",
   "execution_count": null,
   "metadata": {},
   "outputs": [],
   "source": [
    "cnt = 0\n",
    "for i in range(length):\n",
    "    pred = inference(composition_list[i])\n",
    "    if pred == label_list[i] == 0:\n",
    "        cnt += 1\n",
    "    if pred == label_list[i] == 1:\n",
    "        cnt += 1\n",
    "print(cnt)"
   ]
  },
  {
   "cell_type": "markdown",
   "metadata": {},
   "source": [
    "# matscibert test"
   ]
  },
  {
   "cell_type": "code",
   "execution_count": null,
   "metadata": {},
   "outputs": [],
   "source": [
    "import torch\n",
    "from torch import nn\n",
    "import random\n",
    "import os\n",
    "import numpy as np\n",
    "import pandas as pd\n",
    "from torch.utils.data import DataLoader, Subset\n",
    "from MatSciBERT.normalize_text import normalize\n",
    "from transformers import AutoModel, AutoTokenizer, AutoConfig\n",
    "\n",
    "\n",
    "def setup_seed(seed):\n",
    "     torch.manual_seed(seed)\n",
    "     torch.cuda.manual_seed_all(seed)\n",
    "     np.random.seed(seed)\n",
    "     random.seed(seed)\n",
    "## 设置随机数种子\n",
    "setup_seed(42)\n",
    "\n",
    "config = AutoConfig.from_pretrained('./MatSciBERT')\n",
    "bert_model = AutoModel.from_pretrained('./MatSciBERT', config=config, ignore_mismatched_sizes=True)\n",
    "\n",
    "\n",
    "class BertClassifier(nn.Module):\n",
    "    def __init__(self, dropout=0.5):\n",
    "        super(BertClassifier, self).__init__()\n",
    "        self.bert = bert_model\n",
    "        self.dropout = nn.Dropout(dropout)\n",
    "        self.linear = nn.Linear(768, 3)\n",
    "        self.relu = nn.ReLU()\n",
    "\n",
    "    def forward(self, input_id, mask):\n",
    "        outputs = self.bert(input_ids=input_id, attention_mask=mask,return_dict=True, output_attentions=True)\n",
    "        pooled_output = outputs.pooler_output\n",
    "        attentions = outputs.attentions\n",
    "        dropout_output = self.dropout(pooled_output)\n",
    "        linear_output = self.linear(dropout_output)\n",
    "        final_layer = self.relu(linear_output)\n",
    "        return final_layer, attentions\n",
    "\n",
    "\n",
    "## 数据获取\n",
    "tokenizer = AutoTokenizer.from_pretrained('./MatSciBERT')\n",
    "def find_text(composition):\n",
    "    file_path = os.path.join('../description/', composition + '.txt')\n",
    "    with open(file_path, 'r') as file:\n",
    "        text = file.read()\n",
    "    return text\n",
    "\n",
    "\n",
    "\n",
    "use_cuda = torch.cuda.is_available()\n",
    "device = torch.device(\"cuda\" if use_cuda else \"cpu\")\n",
    "\n",
    "## 模型读取\n",
    "from torch.serialization import load\n",
    "model_path = './prompt_baseline.pth'\n",
    "model_data = torch.load(model_path, map_location=device)\n",
    "model = BertClassifier()\n",
    "model.to(device)\n",
    "model.load_state_dict(model_data)\n",
    "model.eval()"
   ]
  },
  {
   "cell_type": "code",
   "execution_count": null,
   "metadata": {},
   "outputs": [],
   "source": [
    "def inference(comp):\n",
    "    input_text = find_text(comp)\n",
    "    inputs = tokenizer(normalize(input_text),\n",
    "                                padding='max_length', \n",
    "                                max_length = 512, \n",
    "                                truncation=True,\n",
    "                                return_tensors=\"pt\").to(device)\n",
    "    output, attention = model(inputs['input_ids'], inputs['attention_mask'])\n",
    "    return output.argmax(dim=1)"
   ]
  },
  {
   "cell_type": "code",
   "execution_count": null,
   "metadata": {},
   "outputs": [],
   "source": [
    "#加载Composition数据\n",
    "import pandas as pd\n",
    "df = pd.read_csv('train_dataset.csv')\n",
    "composition_list = df['composition'].to_list()\n",
    "labels = {'BMG': 0,\n",
    "          'Ribbon': 1,\n",
    "          'NR': 2\n",
    "          }\n",
    "label_list = [labels[label] for label in df['glass_forming_category']]\n",
    "length = len(composition_list)"
   ]
  },
  {
   "cell_type": "code",
   "execution_count": null,
   "metadata": {},
   "outputs": [],
   "source": [
    "print(length)"
   ]
  },
  {
   "cell_type": "code",
   "execution_count": null,
   "metadata": {},
   "outputs": [],
   "source": [
    "count_BMG = sum(1 for label in label_list if label == 0)\n",
    "print('BMG in test dataset: ', count_BMG)"
   ]
  },
  {
   "cell_type": "code",
   "execution_count": null,
   "metadata": {},
   "outputs": [],
   "source": [
    "count_Ribbon = sum(1 for label in label_list if label == 1)\n",
    "print('Ribbon in test dataset: ', count_Ribbon)"
   ]
  },
  {
   "cell_type": "code",
   "execution_count": null,
   "metadata": {},
   "outputs": [],
   "source": [
    "cnt = 0\n",
    "for i in range(length):\n",
    "    pred = inference(composition_list[i])\n",
    "    if pred == label_list[i]:\n",
    "        cnt += 1\n",
    "    # if pred == label_list[i] == 1:\n",
    "    #     cnt += 1\n",
    "print(cnt)"
   ]
  }
 ],
 "metadata": {
  "kernelspec": {
   "display_name": "llm",
   "language": "python",
   "name": "python3"
  },
  "language_info": {
   "codemirror_mode": {
    "name": "ipython",
    "version": 3
   },
   "file_extension": ".py",
   "mimetype": "text/x-python",
   "name": "python",
   "nbconvert_exporter": "python",
   "pygments_lexer": "ipython3",
   "version": "3.10.13"
  }
 },
 "nbformat": 4,
 "nbformat_minor": 2
}
