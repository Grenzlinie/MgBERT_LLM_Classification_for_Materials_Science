{
 "cells": [
  {
   "cell_type": "code",
   "execution_count": null,
   "metadata": {},
   "outputs": [],
   "source": [
    "import pandas as pd\n",
    "import numpy as np\n",
    "import matplotlib.pyplot as plt\n",
    "import seaborn as sns"
   ]
  },
  {
   "cell_type": "code",
   "execution_count": null,
   "metadata": {},
   "outputs": [],
   "source": [
    "#加载Composition数据\n",
    "import pandas as pd\n",
    "df = pd.read_csv('metalprompt_testset.csv')\n",
    "composition_list = df['composition'].tolist()\n",
    "label_list = df['glass_forming_category'].tolist()\n",
    "print(len(composition_list))\n",
    "print(composition_list[:5])\n",
    "print(len(label_list))\n",
    "print(label_list[:5])"
   ]
  },
  {
   "cell_type": "code",
   "execution_count": null,
   "metadata": {},
   "outputs": [],
   "source": [
    "cnt = 0\n",
    "idn = 0\n",
    "for i in range(len(composition_list)):\n",
    "    label = label_list[i]\n",
    "    with open(f'direct_ask/{composition_list[i]}.txt', 'r') as response_file:\n",
    "        file_content = response_file.read()\n",
    "        if file_content.startswith(label):\n",
    "            cnt += 1\n",
    "        if file_content.startswith(\"I don't know.\"):\n",
    "            idn += 1\n",
    "print(cnt)\n",
    "print(idn)"
   ]
  },
  {
   "cell_type": "code",
   "execution_count": null,
   "metadata": {},
   "outputs": [],
   "source": [
    "cnt = 0\n",
    "idn = 0\n",
    "for i in range(len(composition_list)):\n",
    "    label = label_list[i]\n",
    "    with open(f'fewshot/{composition_list[i]}.txt', 'r') as response_file:\n",
    "        file_content = response_file.read()\n",
    "        if file_content.startswith(label):\n",
    "            cnt += 1\n",
    "        if file_content.startswith(\"I don't know.\"):\n",
    "            idn += 1\n",
    "print(cnt)\n",
    "print(idn)"
   ]
  },
  {
   "cell_type": "code",
   "execution_count": null,
   "metadata": {},
   "outputs": [],
   "source": [
    "cnt = 0\n",
    "idn = 0\n",
    "for i in range(len(composition_list)):\n",
    "    label = label_list[i]\n",
    "    with open(f'toc_fewshot/{composition_list[i]}.txt', 'r') as response_file:\n",
    "        file_content = response_file.read()\n",
    "        if file_content.startswith(label):\n",
    "            cnt += 1\n",
    "        if file_content.startswith(\"I don't know.\"):\n",
    "            idn += 1\n",
    "print(cnt)\n",
    "print(idn)"
   ]
  },
  {
   "cell_type": "code",
   "execution_count": null,
   "metadata": {},
   "outputs": [],
   "source": [
    "import matplotlib.pyplot as plt\n",
    "\n",
    "labels = ['toc_fewshot', 'fewshot', 'direct_ask', 'our workflow']\n",
    "accuracy = [0, 0, 0, 88.5]\n",
    "\n",
    "plt.figure(figsize=(10, 7))\n",
    "plt.bar(labels, accuracy, width=0.35, linewidth=2, edgecolor='black', color='#a1c4fd')\n",
    "for i, v in enumerate(accuracy):\n",
    "    plt.text(i, v + 1, str(v), ha='center', fontsize=16)\n",
    "\n",
    "plt.xticks(fontsize=16)\n",
    "plt.yticks(fontsize=16)\n",
    "# modify the axes\n",
    "plt.tick_params(axis='x', width=2)\n",
    "plt.tick_params(axis='y', width=2)\n",
    "# modify the frame\n",
    "plt.gca().spines['top'].set_linewidth(2)       # upper border\n",
    "plt.gca().spines['bottom'].set_linewidth(2)    # lower border\n",
    "plt.gca().spines['left'].set_linewidth(2)      # left border\n",
    "plt.gca().spines['right'].set_linewidth(2)     # right border\n",
    "plt.xlabel('Prompt Methods', fontsize=16)  # text of x-axis\n",
    "plt.ylabel('Accuracy (%)', fontsize=16)  # text of y-axis\n",
    "# plt.title(\"Comparison of Different Prompt Methods' Accuracy\", fontsize=16)  # \n",
    "plt.savefig('prompt_comparison.svg', dpi=600)\n",
    "plt.show()"
   ]
  }
 ],
 "metadata": {
  "kernelspec": {
   "display_name": "matscibert",
   "language": "python",
   "name": "python3"
  },
  "language_info": {
   "codemirror_mode": {
    "name": "ipython",
    "version": 3
   },
   "file_extension": ".py",
   "mimetype": "text/x-python",
   "name": "python",
   "nbconvert_exporter": "python",
   "pygments_lexer": "ipython3",
   "version": "3.10.13"
  }
 },
 "nbformat": 4,
 "nbformat_minor": 2
}
