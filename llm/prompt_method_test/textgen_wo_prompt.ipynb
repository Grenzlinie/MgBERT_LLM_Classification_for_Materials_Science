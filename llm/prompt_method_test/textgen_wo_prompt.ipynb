{
 "cells": [
  {
   "cell_type": "code",
   "execution_count": null,
   "metadata": {},
   "outputs": [],
   "source": [
    "#generate prompt template\n",
    "from langchain import PromptTemplate\n",
    "\n",
    "template = \"\"\"\n",
    "Template content filling\n",
    "\"\"\"\n",
    "\n",
    "prompt_template = PromptTemplate(\n",
    "    input_variables = [\"Composition\"],\n",
    "    template = template\n",
    ")\n",
    "\n",
    "print(\n",
    "    prompt_template.format(\n",
    "        Composition = \"Ag45Al20Mg35\"\n",
    "    )\n",
    ")"
   ]
  },
  {
   "cell_type": "code",
   "execution_count": null,
   "metadata": {},
   "outputs": [],
   "source": [
    "#load .env file\n",
    "from dotenv import load_dotenv\n",
    "load_dotenv()"
   ]
  },
  {
   "cell_type": "code",
   "execution_count": null,
   "metadata": {},
   "outputs": [],
   "source": [
    "#load google generative ai gemini\n",
    "##you need a .env file with GOOGLE_API_KEY=<your google api key>\n",
    "import google.generativeai as genai\n",
    "import os\n",
    "from langchain_google_genai import ChatGoogleGenerativeAI\n",
    "genai.configure(api_key=os.environ.get(\"GOOGLE_API_KEY\"))"
   ]
  },
  {
   "cell_type": "code",
   "execution_count": null,
   "metadata": {},
   "outputs": [],
   "source": [
    "#加载Composition数据\n",
    "import pandas as pd\n",
    "df = pd.read_csv('metalprompt_testset.csv')\n",
    "composition_list = df['composition'].tolist()\n",
    "label_list = df['glass_forming_category'].tolist()\n",
    "print(len(composition_list))\n",
    "print(composition_list[:5])\n",
    "print(len(label_list))\n",
    "print(label_list[:5])"
   ]
  },
  {
   "cell_type": "code",
   "execution_count": null,
   "metadata": {},
   "outputs": [],
   "source": [
    "#生成描述\n",
    "from tqdm import trange\n",
    "llm = ChatGoogleGenerativeAI(model=\"gemini-pro\", temperature=0, top_k=1)\n",
    "for i in trange(len(composition_list)):\n",
    "    composition = composition_list[i]\n",
    "    prompt = prompt_template.format(\n",
    "        Composition = composition\n",
    "    )\n",
    "    response = llm.invoke(prompt)\n",
    "    with open(f'xxx/{composition_list[i]}.txt', 'w') as response_file:\n",
    "        response_file.write(response.content)"
   ]
  }
 ],
 "metadata": {
  "kernelspec": {
   "display_name": "llm",
   "language": "python",
   "name": "python3"
  },
  "language_info": {
   "codemirror_mode": {
    "name": "ipython",
    "version": 3
   },
   "file_extension": ".py",
   "mimetype": "text/x-python",
   "name": "python",
   "nbconvert_exporter": "python",
   "pygments_lexer": "ipython3",
   "version": "3.10.13"
  }
 },
 "nbformat": 4,
 "nbformat_minor": 2
}
