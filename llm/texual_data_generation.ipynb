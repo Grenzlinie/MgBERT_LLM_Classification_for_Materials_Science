{
 "cells": [
  {
   "cell_type": "code",
   "execution_count": null,
   "metadata": {},
   "outputs": [],
   "source": [
    "#Template for alloy composition description\n",
    "from langchain import PromptTemplate\n",
    "\n",
    "template = \"\"\"\\\\Instruction: You're an alloy materials scientist. I need you to help me write a brief description for the following alloys. Your answer must have scientific basis. Please don't deceive me and do not describe uncertain matters. If you are not clear about the information in this section, please say I do not know. The content needs to be relevant to the structure and properties of alloys. The composition of the alloy is marked with \\%Composition\\%.\\\\\\n\n",
    "\n",
    "\\\\Example Task: Please write a description for alloy composition \\%Al35Ni5Zr60\\%. \\\\\\n\n",
    "\n",
    "\\\\Answer Format and Requirement:\\n\n",
    "[ANSWER BEGIN]\\n\n",
    "Composition Information: [Al35Ni5Zr60 consists of 35% Aluminium, 5% Nickel, and 60% Zirconium]. \\n\n",
    "Element Information:\\n\n",
    "[Please write down some properties of each element in the alloy.\\n\n",
    "For specific numerical values of properties, please write down the most reliable value.\\n\n",
    "If there is a metal radius, the radius of the element is described using the metal radius; otherwise, the covalent radius is used.\\n\n",
    "The International System of units of numerical value must also be provided.]\\n\n",
    "[START ELEMENT INFORMATION]\\n\n",
    "Element: The name of one element in alloy\\n\n",
    "Element Radius:\\n\n",
    "Melting Point:\\n\n",
    "Boiling Point:\\n\n",
    "Density:\\n\n",
    "Hardness:\\n\n",
    "Electrical Conductivity:\\n\n",
    "Thermal Conductivity:\\n\n",
    "Magnetic Susceptibility:\\n\n",
    "Ionization Energy:\\n\n",
    "Electronegativity:\\n\n",
    "[END ELEMENT INFORMATION]\\n\n",
    "Alloy Information:\\n\n",
    "[Please write down the possible properties of the combination of elements in this alloy.\\n\n",
    "Please don't write down crystal structure if you are not 100% sure what it is.]\\n\n",
    "[ANSWER END]\\n\n",
    "\\\\\n",
    "\n",
    "\\\\Task: Please write a description for alloy composition \\%{Composition}\\%. \\\\\\n\n",
    "\"\"\"\n",
    "\n",
    "prompt_template = PromptTemplate(\n",
    "    input_variables = [\"Composition\"],\n",
    "    template = template\n",
    ")\n",
    "\n",
    "print(\n",
    "    prompt_template.format(\n",
    "        Composition = \"Ag45Al20Mg35\"\n",
    "    )\n",
    ")"
   ]
  },
  {
   "cell_type": "code",
   "execution_count": null,
   "metadata": {},
   "outputs": [],
   "source": [
    "#Load environment variables\n",
    "from dotenv import load_dotenv\n",
    "load_dotenv()"
   ]
  },
  {
   "cell_type": "code",
   "execution_count": null,
   "metadata": {},
   "outputs": [],
   "source": [
    "#Load Google Generative AI Gemini\n",
    "##you need a .env file with GOOGLE_API_KEY=<your google api key>\n",
    "import google.generativeai as genai\n",
    "import os\n",
    "from langchain_google_genai import ChatGoogleGenerativeAI\n",
    "genai.configure(api_key=os.environ.get(\"GOOGLE_API_KEY\"))"
   ]
  },
  {
   "cell_type": "code",
   "execution_count": null,
   "metadata": {},
   "outputs": [],
   "source": [
    "#Load composition data\n",
    "import pandas as pd\n",
    "df = pd.read_csv('../original_data/unique_compositions.csv')\n",
    "composition_list = df['composition'].tolist()\n",
    "print(len(composition_list))\n",
    "print(composition_list[:10])"
   ]
  },
  {
   "cell_type": "code",
   "execution_count": null,
   "metadata": {},
   "outputs": [],
   "source": [
    "#生成描述\n",
    "from tqdm import trange\n",
    "llm = ChatGoogleGenerativeAI(model=\"gemini-pro\", temperature=0, top_k=1)\n",
    "for i in trange(len(composition_list)):\n",
    "    composition = composition_list[i]\n",
    "    prompt = prompt_template.format(\n",
    "        Composition = composition\n",
    "    )\n",
    "    response = llm.invoke(prompt)\n",
    "    with open(f'description/{composition_list[i]}.txt', 'w') as response_file:\n",
    "        response_file.write(response.content)\n"
   ]
  }
 ],
 "metadata": {
  "kernelspec": {
   "display_name": "llm",
   "language": "python",
   "name": "python3"
  },
  "language_info": {
   "codemirror_mode": {
    "name": "ipython",
    "version": 3
   },
   "file_extension": ".py",
   "mimetype": "text/x-python",
   "name": "python",
   "nbconvert_exporter": "python",
   "pygments_lexer": "ipython3",
   "version": "3.10.13"
  }
 },
 "nbformat": 4,
 "nbformat_minor": 2
}
