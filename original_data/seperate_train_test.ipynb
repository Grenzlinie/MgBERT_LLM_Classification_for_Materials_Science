{
 "cells": [
  {
   "cell_type": "code",
   "execution_count": null,
   "metadata": {},
   "outputs": [],
   "source": [
    "import torch\n",
    "import random\n",
    "import os\n",
    "import numpy as np\n",
    "import pandas as pd\n",
    "\n",
    "def setup_seed(seed):\n",
    "     torch.manual_seed(seed)\n",
    "     torch.cuda.manual_seed_all(seed)\n",
    "     np.random.seed(seed)\n",
    "     random.seed(seed)\n",
    "# Set seed for reproducibility\n",
    "setup_seed(42)"
   ]
  },
  {
   "cell_type": "code",
   "execution_count": null,
   "metadata": {},
   "outputs": [],
   "source": [
    "import pandas as pd\n",
    "import torch\n",
    "def find_text(composition):\n",
    "    file_path = os.path.join('../description/', composition + '.txt')\n",
    "    with open(file_path, 'r') as file:\n",
    "        text = file.read()\n",
    "    return text\n",
    "\n",
    "\n",
    "df = pd.read_csv('../unique_compositions.csv')\n",
    "\n",
    "labels = {'BMG': 0,\n",
    "          'Ribbon': 1,\n",
    "          'NR': 2\n",
    "          }\n",
    "\n",
    "class Dataset(torch.utils.data.Dataset):\n",
    "    def __init__(self, df):\n",
    "        self.labels = [torch.tensor(labels[label]) for label in df['glass_forming_category']]\n",
    "        self.texts = [tokenizer(normalize(find_text(composition)),\n",
    "                                padding='max_length', \n",
    "                                max_length = 900, \n",
    "                                truncation=True,\n",
    "                                return_tensors=\"pt\") \n",
    "                      for composition in df['composition']]\n",
    "        self.texts = [{k: torch.Tensor(v).long() for k, v in t.items()} for t in self.texts]\n",
    "\n",
    "    def classes(self):\n",
    "        return self.labels\n",
    "\n",
    "    def __len__(self):\n",
    "        return len(self.labels)\n",
    "\n",
    "    def get_batch_labels(self, idx):\n",
    "        # Fetch a batch of labels\n",
    "        return np.array(self.labels[idx])\n",
    "\n",
    "    def get_batch_texts(self, idx):\n",
    "        # Fetch a batch of inputs\n",
    "        return self.texts[idx]\n",
    "\n",
    "    def __getitem__(self, idx):\n",
    "        batch_texts = self.get_batch_texts(idx)\n",
    "        batch_y = self.get_batch_labels(idx)\n",
    "        return batch_texts, batch_y"
   ]
  },
  {
   "cell_type": "code",
   "execution_count": null,
   "metadata": {},
   "outputs": [],
   "source": [
    "from torch.utils.data import DataLoader, Subset\n",
    "\n",
    "# get dataset\n",
    "# dataset = Dataset(df)\n",
    "\n",
    "# divide dataset into 3 classes\n",
    "class_indices = {\n",
    "    label: df[df['glass_forming_category'] == category].index.tolist()\n",
    "    for category, label in labels.items()\n",
    "}\n",
    "\n",
    "# ratio of train set and test set\n",
    "train_ratio = 0.8  # 训练集比例\n",
    "\n",
    "train_indices = []\n",
    "test_indices = []\n",
    "\n",
    "# Stratified sampling for each category\n",
    "for class_label, indices in class_indices.items():\n",
    "    # Calculate  the number of samples in the training set for the current category\n",
    "    class_size = len(indices)\n",
    "    train_size = int(train_ratio * class_size)\n",
    "    # random sample from indices with train_size and test_size\n",
    "    random.shuffle(indices)\n",
    "    train_indices.extend(indices[:train_size])\n",
    "    test_indices.extend(indices[train_size:])\n",
    "\n",
    "# create train dataset and test dataset\n",
    "# train_dataset = Subset(dataset, train_indices)\n",
    "# test_dataset = Subset(dataset, test_indices)"
   ]
  },
  {
   "cell_type": "code",
   "execution_count": null,
   "metadata": {},
   "outputs": [],
   "source": [
    "train_dataset = df.iloc[train_indices]\n",
    "test_dataset = df.iloc[test_indices]\n",
    "print(len(train_dataset))\n",
    "print(len(test_dataset))"
   ]
  },
  {
   "cell_type": "code",
   "execution_count": null,
   "metadata": {},
   "outputs": [],
   "source": [
    "train_dataset.to_csv('train_dataset.csv', index=False)\n",
    "test_dataset.to_csv('test_dataset.csv', index=False)\n"
   ]
  }
 ],
 "metadata": {
  "kernelspec": {
   "display_name": "llm",
   "language": "python",
   "name": "python3"
  },
  "language_info": {
   "codemirror_mode": {
    "name": "ipython",
    "version": 3
   },
   "file_extension": ".py",
   "mimetype": "text/x-python",
   "name": "python",
   "nbconvert_exporter": "python",
   "pygments_lexer": "ipython3",
   "version": "3.10.13"
  }
 },
 "nbformat": 4,
 "nbformat_minor": 2
}
